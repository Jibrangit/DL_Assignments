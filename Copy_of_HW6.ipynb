{
  "nbformat": 4,
  "nbformat_minor": 0,
  "metadata": {
    "colab": {
      "name": "Copy of HW6.ipynb",
      "provenance": [],
      "include_colab_link": true
    },
    "kernelspec": {
      "name": "python3",
      "display_name": "Python 3"
    },
    "language_info": {
      "name": "python"
    },
    "accelerator": "GPU"
  },
  "cells": [
    {
      "cell_type": "markdown",
      "metadata": {
        "id": "view-in-github",
        "colab_type": "text"
      },
      "source": [
        "<a href=\"https://colab.research.google.com/github/Jibrangit/DL_Assignments/blob/HW6/Copy_of_HW6.ipynb\" target=\"_parent\"><img src=\"https://colab.research.google.com/assets/colab-badge.svg\" alt=\"Open In Colab\"/></a>"
      ]
    },
    {
      "cell_type": "code",
      "metadata": {
        "id": "gcacAqn_Wc7C",
        "colab": {
          "base_uri": "https://localhost:8080/"
        },
        "outputId": "e71aa27f-004f-479a-d84a-4e4af221c486"
      },
      "source": [
        "from google.colab import drive\n",
        "drive.mount('/content/drive')"
      ],
      "execution_count": 1,
      "outputs": [
        {
          "output_type": "stream",
          "text": [
            "Mounted at /content/drive\n"
          ],
          "name": "stdout"
        }
      ]
    },
    {
      "cell_type": "code",
      "metadata": {
        "id": "EifJ8Dx-1s9A",
        "colab": {
          "base_uri": "https://localhost:8080/"
        },
        "outputId": "8e58ef83-f5b6-4e17-ebde-1b58c21ea703"
      },
      "source": [
        "import numpy as np\n",
        "x_load = np.load('/content/drive/MyDrive/Colab Notebooks/faces.npy')\n",
        "y_load = np.load('/content/drive/MyDrive/Colab Notebooks/ages.npy')\n",
        "\n",
        "print(np.shape(x_load))\n",
        "no_data = int(x_load.shape[0])\n",
        "print(no_data)\n",
        "\n",
        "np.random.seed(0)\n",
        "X_rgb = np.random.randn(7500, 48, 48, 3)\n",
        "for i in range(0, len(x_load)):\n",
        "  img = x_load[i, :, :]\n",
        "  stacked_img = np.stack((img,)*3, axis=-1)\n",
        "  X_rgb[i, :, :, 0] = stacked_img[:, :, 0]\n",
        "  X_rgb[i, :, :, 1] = stacked_img[:, :, 1]\n",
        "  X_rgb[i, :, :, 2] = stacked_img[:, :, 2]\n",
        "\n",
        "x_load = X_rgb\n",
        "print(np.shape(x_load))"
      ],
      "execution_count": 21,
      "outputs": [
        {
          "output_type": "stream",
          "text": [
            "(7500, 48, 48)\n",
            "7500\n",
            "(7500, 48, 48, 3)\n"
          ],
          "name": "stdout"
        }
      ]
    },
    {
      "cell_type": "code",
      "metadata": {
        "colab": {
          "base_uri": "https://localhost:8080/"
        },
        "id": "WMIYmPWrz11C",
        "outputId": "8013154c-0b19-4e34-e838-54c5697a1d01"
      },
      "source": [
        "import random\n",
        "def random_rearrange (X_tr, y_tr, seed):\n",
        "    np.random.seed(seed)\n",
        "    np.random.shuffle(X_tr)\n",
        "    np.random.seed(seed)\n",
        "    np.random.shuffle(y_tr)\n",
        "\n",
        "no_data = int(x_load.shape[0])\n",
        "train_size = int(0.8*0.8*no_data)\n",
        "test_size = int(0.2*no_data)\n",
        "\n",
        "print(y_load[0])   \n",
        "\n",
        "random_rearrange(x_load, y_load, 0)\n",
        "print(y_load[0])                        #Just checking if shuffling ahs been done coorrectly.\n",
        "\n",
        "(x_test, x_train, x_valid) = x_load[:test_size], x_load[test_size:test_size+train_size],  x_load[test_size+train_size:]\n",
        "(y_test, y_train, y_valid) = y_load[:test_size], y_load[test_size:test_size+train_size], y_load[test_size+train_size:]\n",
        "\n",
        "w, h = 48, 48\n",
        "\n",
        "# x_train = x_train.astype('float32') / 255\n",
        "# x_valid = x_valid.astype('float32') / 255\n",
        "# x_test = x_test.astype('float32') / 255\n",
        "\n",
        "# x_train = x_train.reshape(x_train.shape[0], w, h, 1)\n",
        "# print(np.shape(x_train))\n",
        "# x_valid = x_valid.reshape(x_valid.shape[0], w, h, 1)\n",
        "# x_test = x_test.reshape(x_test.shape[0], w, h, 1)\n",
        "\n",
        "\n"
      ],
      "execution_count": 22,
      "outputs": [
        {
          "output_type": "stream",
          "text": [
            "40.0\n",
            "48.0\n"
          ],
          "name": "stdout"
        }
      ]
    },
    {
      "cell_type": "code",
      "metadata": {
        "id": "DvhI-KGs1xP1"
      },
      "source": [
        "import keras,os\n",
        "from keras.models import Sequential\n",
        "from keras.layers import Dense, Conv2D, MaxPool2D , Flatten"
      ],
      "execution_count": 23,
      "outputs": []
    },
    {
      "cell_type": "code",
      "metadata": {
        "id": "z-yrf0vtgTFm"
      },
      "source": [
        "model = Sequential()"
      ],
      "execution_count": 24,
      "outputs": []
    },
    {
      "cell_type": "markdown",
      "metadata": {
        "id": "UNiLrGjeSIZf"
      },
      "source": [
        ""
      ]
    },
    {
      "cell_type": "code",
      "metadata": {
        "id": "K4TxtKlBgWoo"
      },
      "source": [
        "model.add(Conv2D(input_shape=(48,48,3),filters=64,kernel_size=(3,3),padding=\"same\", activation=\"relu\"))\n",
        "model.add(Conv2D(filters=64,kernel_size=(3,3),padding=\"same\", activation=\"relu\"))\n",
        "model.add(MaxPool2D(pool_size=(2,2),strides=(2,2)))\n",
        "\n",
        "model.add(Conv2D(filters=128, kernel_size=(3,3), padding=\"same\", activation=\"relu\"))\n",
        "model.add(Conv2D(filters=128, kernel_size=(3,3), padding=\"same\", activation=\"relu\"))\n",
        "model.add(MaxPool2D(pool_size=(2,2),strides=(2,2)))\n",
        "\n",
        "model.add(Conv2D(filters=256, kernel_size=(3,3), padding=\"same\", activation=\"relu\"))\n",
        "model.add(Conv2D(filters=256, kernel_size=(3,3), padding=\"same\", activation=\"relu\"))\n",
        "model.add(Conv2D(filters=256, kernel_size=(3,3), padding=\"same\", activation=\"relu\"))\n",
        "model.add(MaxPool2D(pool_size=(2,2),strides=(2,2)))\n",
        "\n",
        "model.add(Conv2D(filters=512, kernel_size=(3,3), padding=\"same\", activation=\"relu\"))\n",
        "model.add(Conv2D(filters=512, kernel_size=(3,3), padding=\"same\", activation=\"relu\"))\n",
        "model.add(Conv2D(filters=512, kernel_size=(3,3), padding=\"same\", activation=\"relu\"))\n",
        "model.add(MaxPool2D(pool_size=(2,2),strides=(2,2)))\n",
        "\n",
        "model.add(Conv2D(filters=512, kernel_size=(3,3), padding=\"same\", activation=\"relu\"))\n",
        "model.add(Conv2D(filters=512, kernel_size=(3,3), padding=\"same\", activation=\"relu\"))\n",
        "model.add(Conv2D(filters=512, kernel_size=(3,3), padding=\"same\", activation=\"relu\"))\n",
        "model.add(MaxPool2D(pool_size=(2,2),strides=(2,2)))\n",
        "\n",
        "model.add(Flatten())\n",
        "model.add(Dense(units=4096,activation=\"relu\"))\n",
        "model.add(Dense(units=4096,activation=\"relu\"))\n",
        "model.add(Dense(units=1, activation=\"relu\"))\n",
        "\n",
        "##units are 1 because we are using binary activation"
      ],
      "execution_count": 25,
      "outputs": []
    },
    {
      "cell_type": "code",
      "metadata": {
        "colab": {
          "base_uri": "https://localhost:8080/"
        },
        "id": "rJVJGJt5hbcM",
        "outputId": "a5efa873-7e90-44a1-ca8a-59118e98faa0"
      },
      "source": [
        "model.summary()"
      ],
      "execution_count": 26,
      "outputs": [
        {
          "output_type": "stream",
          "text": [
            "Model: \"sequential_1\"\n",
            "_________________________________________________________________\n",
            "Layer (type)                 Output Shape              Param #   \n",
            "=================================================================\n",
            "conv2d_13 (Conv2D)           (None, 48, 48, 64)        1792      \n",
            "_________________________________________________________________\n",
            "conv2d_14 (Conv2D)           (None, 48, 48, 64)        36928     \n",
            "_________________________________________________________________\n",
            "max_pooling2d_5 (MaxPooling2 (None, 24, 24, 64)        0         \n",
            "_________________________________________________________________\n",
            "conv2d_15 (Conv2D)           (None, 24, 24, 128)       73856     \n",
            "_________________________________________________________________\n",
            "conv2d_16 (Conv2D)           (None, 24, 24, 128)       147584    \n",
            "_________________________________________________________________\n",
            "max_pooling2d_6 (MaxPooling2 (None, 12, 12, 128)       0         \n",
            "_________________________________________________________________\n",
            "conv2d_17 (Conv2D)           (None, 12, 12, 256)       295168    \n",
            "_________________________________________________________________\n",
            "conv2d_18 (Conv2D)           (None, 12, 12, 256)       590080    \n",
            "_________________________________________________________________\n",
            "conv2d_19 (Conv2D)           (None, 12, 12, 256)       590080    \n",
            "_________________________________________________________________\n",
            "max_pooling2d_7 (MaxPooling2 (None, 6, 6, 256)         0         \n",
            "_________________________________________________________________\n",
            "conv2d_20 (Conv2D)           (None, 6, 6, 512)         1180160   \n",
            "_________________________________________________________________\n",
            "conv2d_21 (Conv2D)           (None, 6, 6, 512)         2359808   \n",
            "_________________________________________________________________\n",
            "conv2d_22 (Conv2D)           (None, 6, 6, 512)         2359808   \n",
            "_________________________________________________________________\n",
            "max_pooling2d_8 (MaxPooling2 (None, 3, 3, 512)         0         \n",
            "_________________________________________________________________\n",
            "conv2d_23 (Conv2D)           (None, 3, 3, 512)         2359808   \n",
            "_________________________________________________________________\n",
            "conv2d_24 (Conv2D)           (None, 3, 3, 512)         2359808   \n",
            "_________________________________________________________________\n",
            "conv2d_25 (Conv2D)           (None, 3, 3, 512)         2359808   \n",
            "_________________________________________________________________\n",
            "max_pooling2d_9 (MaxPooling2 (None, 1, 1, 512)         0         \n",
            "_________________________________________________________________\n",
            "flatten_1 (Flatten)          (None, 512)               0         \n",
            "_________________________________________________________________\n",
            "dense_3 (Dense)              (None, 4096)              2101248   \n",
            "_________________________________________________________________\n",
            "dense_4 (Dense)              (None, 4096)              16781312  \n",
            "_________________________________________________________________\n",
            "dense_5 (Dense)              (None, 1)                 4097      \n",
            "=================================================================\n",
            "Total params: 33,601,345\n",
            "Trainable params: 33,601,345\n",
            "Non-trainable params: 0\n",
            "_________________________________________________________________\n"
          ],
          "name": "stdout"
        }
      ]
    },
    {
      "cell_type": "code",
      "metadata": {
        "id": "22eJgTLuhiqI"
      },
      "source": [
        "import tensorflow as tf\n",
        "\n",
        "from keras.metrics import RootMeanSquaredError\n",
        "import keras.backend as K\n",
        "def root_mean_squared_error(y_true, y_pred):\n",
        "        return K.sqrt(K.mean(K.square(y_pred - y_true))) \n",
        "        print(y_true)\n",
        "model.compile(\n",
        "  loss=root_mean_squared_error,\n",
        "  optimizer='RMSProp',\n",
        "  metrics=[RootMeanSquaredError()]\n",
        ")"
      ],
      "execution_count": 30,
      "outputs": []
    },
    {
      "cell_type": "code",
      "metadata": {
        "colab": {
          "base_uri": "https://localhost:8080/"
        },
        "id": "dsA-MLDkhrQJ",
        "outputId": "6f4912a1-37c1-42f1-b372-698f6a0bcb36"
      },
      "source": [
        "from keras.callbacks import ModelCheckpoint\n",
        "\n",
        "checkpointer = ModelCheckpoint(filepath='model.weights.best.hdf5', verbose = 1, save_best_only=True)\n",
        "model.fit(x_train,\n",
        "          y_train,\n",
        "          batch_size=8,\n",
        "          epochs= 10,\n",
        "          validation_data=(x_valid, y_valid),\n",
        "          callbacks=[checkpointer])\n",
        "\n"
      ],
      "execution_count": null,
      "outputs": [
        {
          "output_type": "stream",
          "text": [
            "Epoch 1/10\n",
            "600/600 [==============================] - 24s 37ms/step - loss: 42.0344 - root_mean_squared_error: 42.3028 - val_loss: 42.0475 - val_root_mean_squared_error: 42.3567\n",
            "\n",
            "Epoch 00001: val_loss improved from inf to 42.04753, saving model to model.weights.best.hdf5\n",
            "Epoch 2/10\n",
            "600/600 [==============================] - 23s 38ms/step - loss: 41.7890 - root_mean_squared_error: 42.1035 - val_loss: 42.0475 - val_root_mean_squared_error: 42.3567\n",
            "\n",
            "Epoch 00002: val_loss did not improve from 42.04753\n",
            "Epoch 3/10\n",
            "600/600 [==============================] - 22s 37ms/step - loss: 41.8295 - root_mean_squared_error: 42.2329 - val_loss: 42.0475 - val_root_mean_squared_error: 42.3567\n",
            "\n",
            "Epoch 00003: val_loss did not improve from 42.04753\n",
            "Epoch 4/10\n",
            "545/600 [==========================>...] - ETA: 1s - loss: 42.1016 - root_mean_squared_error: 42.4456"
          ],
          "name": "stdout"
        }
      ]
    },
    {
      "cell_type": "code",
      "metadata": {
        "id": "ihyyVb8o7jCp",
        "colab": {
          "base_uri": "https://localhost:8080/"
        },
        "outputId": "c98853b4-3a89-4c3c-e4ba-bd344bf1242e"
      },
      "source": [
        "### prediction code\n",
        "# Load the weights with the best validation accuracy\n",
        "model.load_weights('model.weights.best.hdf5')\n",
        "# Evaluate the model on test set\n",
        "score = model.evaluate(x_test, y_test, verbose=0)\n",
        "# Print test accuracy\n",
        "print('\\n', 'Test accuracy:', score[1])\n",
        "y_hat = model.predict(x_test)\n",
        "print(y_hat)\n",
        "print(y_test[55])"
      ],
      "execution_count": 15,
      "outputs": [
        {
          "output_type": "stream",
          "text": [
            "\n",
            " Test accuracy: 0.006666666828095913\n",
            "[[40.08122 ]\n",
            " [40.081203]\n",
            " [40.08123 ]\n",
            " ...\n",
            " [40.08132 ]\n",
            " [40.081207]\n",
            " [40.08121 ]]\n",
            "28.0\n"
          ],
          "name": "stdout"
        }
      ]
    },
    {
      "cell_type": "code",
      "metadata": {
        "colab": {
          "base_uri": "https://localhost:8080/"
        },
        "id": "BkZNNbBLbsP2",
        "outputId": "a4e83117-f18c-4137-a2ea-90be27e4115a"
      },
      "source": [
        "import numpy as np\n",
        "img = np.array([[1, 2], [3, 4]])\n",
        "print(np.shape(img))\n",
        "stacked_img = np.stack((img,)*3, axis=-1)\n",
        "print(np.shape(stacked_img))\n",
        "print(\"=============\")\n",
        "np.random.seed(0)\n",
        "x_train = np.random.randn(48000, 48, 48)\n",
        "\n",
        "\n",
        "\n"
      ],
      "execution_count": 11,
      "outputs": [
        {
          "output_type": "stream",
          "text": [
            "(2, 2)\n",
            "(2, 2, 3)\n",
            "=============\n"
          ],
          "name": "stdout"
        }
      ]
    },
    {
      "cell_type": "code",
      "metadata": {
        "colab": {
          "base_uri": "https://localhost:8080/"
        },
        "id": "Fi3mbEByjjwZ",
        "outputId": "6555f01f-67b4-4941-8ecd-29ef76b191ba"
      },
      "source": [
        "print(X_rgb.shape)"
      ],
      "execution_count": 12,
      "outputs": [
        {
          "output_type": "stream",
          "text": [
            "(7500, 48, 48, 3)\n"
          ],
          "name": "stdout"
        }
      ]
    },
    {
      "cell_type": "code",
      "metadata": {
        "colab": {
          "base_uri": "https://localhost:8080/"
        },
        "id": "g6WMuCAeraI-",
        "outputId": "61d18d73-c866-4fd3-9e36-6e3287d76fc1"
      },
      "source": [
        "print(X_rgb[77, :, :, 2])"
      ],
      "execution_count": 13,
      "outputs": [
        {
          "output_type": "stream",
          "text": [
            "[[ 35.  58.  81. ... 138. 132. 125.]\n",
            " [ 36.  58.  82. ... 139. 134. 130.]\n",
            " [ 40.  55.  80. ... 144. 142. 140.]\n",
            " ...\n",
            " [ 71.  74.  79. ... 149. 132. 116.]\n",
            " [ 71.  76.  80. ... 139. 121. 114.]\n",
            " [ 69.  74.  79. ... 126. 112. 116.]]\n"
          ],
          "name": "stdout"
        }
      ]
    },
    {
      "cell_type": "code",
      "metadata": {
        "id": "aB9beJQQv1M7"
      },
      "source": [
        ""
      ],
      "execution_count": null,
      "outputs": []
    }
  ]
}