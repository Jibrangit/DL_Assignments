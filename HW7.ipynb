{
  "nbformat": 4,
  "nbformat_minor": 0,
  "metadata": {
    "colab": {
      "name": "HW7.ipynb",
      "provenance": [],
      "mount_file_id": "1fva080bcA2VRwc3zp5ehph8t5Fj-1XIJ",
      "authorship_tag": "ABX9TyMLrAN/jXgGRqTnhFysUY2r",
      "include_colab_link": true
    },
    "kernelspec": {
      "name": "python3",
      "display_name": "Python 3"
    },
    "language_info": {
      "name": "python"
    }
  },
  "cells": [
    {
      "cell_type": "markdown",
      "metadata": {
        "id": "view-in-github",
        "colab_type": "text"
      },
      "source": [
        "<a href=\"https://colab.research.google.com/github/Jibrangit/DL_Assignments/blob/Experiment/HW7.ipynb\" target=\"_parent\"><img src=\"https://colab.research.google.com/assets/colab-badge.svg\" alt=\"Open In Colab\"/></a>"
      ]
    },
    {
      "cell_type": "code",
      "metadata": {
        "id": "3bRgUGohNTiT"
      },
      "source": [
        "import numpy as np\n",
        "import torch\n",
        "import torch.nn as nn\n",
        "from torch import optim\n",
        "import torch.nn.functional as Func\n",
        "import scipy\n",
        "import matplotlib.pyplot as plt\n",
        "from torchvision.utils import save_image\n",
        "%matplotlib inline "
      ],
      "execution_count": 88,
      "outputs": []
    },
    {
      "cell_type": "code",
      "metadata": {
        "id": "kNnRDtNHP6ql"
      },
      "source": [
        "INPUT = 784\n",
        "HIDDEN = 256\n",
        "BATCH_SIZE = 1\n",
        "NUM_EPOCHS = 10\n",
        "DATASET_SIZE = 100\n",
        "LATENT_CODE_SIZE = 32\n",
        "NUM_BATCHES = DATASET_SIZE//BATCH_SIZE\n",
        "IMP_HYPERPARAM = 0.1                                                    #KL Divergence vs binary cross entropy loss, Increasing this favors the KL divergence \n",
        "DROPOUT = 0.99"
      ],
      "execution_count": 89,
      "outputs": []
    },
    {
      "cell_type": "code",
      "metadata": {
        "id": "U7gzNhlJQDO7"
      },
      "source": [
        "class Encoder (nn.Module):    \n",
        "  def __init__ (self):        \n",
        "    super(Encoder, self).__init__()        # TODO initialize layers \n",
        "    self.hidden = nn.Linear(784, HIDDEN) \n",
        "    self.output = nn.Linear(HIDDEN, LATENT_CODE_SIZE)   \n",
        "    self.dropout = nn.Dropout(p=DROPOUT)\n",
        "    self.activation = nn.Tanh() \n",
        "    \n",
        "  def forward (self, X):        \n",
        "      # TODO execute layers and return result \n",
        "      # X = self.activation(X)\n",
        "      # X = self.dropout(X)\n",
        "      Z = self.hidden(X)\n",
        "      Z = self.activation(Z)\n",
        "      Z = self.dropout(Z)\n",
        "      MU = self.output(Z)   \n",
        "      SIGMA2 = self.output(Z)   \n",
        "      SIGMA2 = torch.square(SIGMA2)     \n",
        "      return MU, SIGMA2\n",
        "\n",
        "class Decoder (nn.Module):    \n",
        "  def __init__ (self):        \n",
        "    super(Decoder, self).__init__()        \n",
        "    # TODO initialize layers\n",
        "    self.hidden = nn.Linear(LATENT_CODE_SIZE, HIDDEN) \n",
        "    self.output = nn.Linear(HIDDEN, 784)   \n",
        "    self.dropout = nn.Dropout(p=DROPOUT)\n",
        "    self.activation = nn.Tanh()   \n",
        "    self.sigmoid_output = nn.Sigmoid()    \n",
        "  \n",
        "  def forward (self, Z):        \n",
        "    # TODO execute layers and return result \n",
        "    X_re = self.hidden(Z)\n",
        "    X_re = self.dropout(X_re)\n",
        "    X_re = self.activation(X_re)\n",
        "    X_re = self.output(X_re)   \n",
        "    X_re = self.sigmoid_output(X_re)     \n",
        "    return X_re\n",
        "\n",
        "class VAE (nn.Module):    \n",
        "  def __init__ (self):        \n",
        "    super(VAE, self).__init__()        \n",
        "    self.decoder = Decoder()        \n",
        "    self.encoder = Encoder()\n",
        "    # self.epsilon = torch.LongTensor(scipy.random.randn(LATENT_CODE_SIZE))\n",
        "\n",
        "# Computes the hidden representation given the pre-sampled values eps    \n",
        "  def latent_code (self, x):        \n",
        "    mu, sigma2 = self.encoder(x)    \n",
        "    # TODO extract mu and sigma2 from the code, and then use them and eps        \n",
        "    # to compute z\n",
        "    epsilon = torch.LongTensor(scipy.random.randn(LATENT_CODE_SIZE))\n",
        "    sigma = torch.sqrt(sigma2) \n",
        "    mu = torch.sum(mu) / mu.shape[0]\n",
        "    z =  mu.mul(epsilon) + sigma\n",
        "    return z, mu, sigma2\n",
        "\n",
        "\n",
        "  def recon_x (self, z):        \n",
        "     x_re = self.decoder(z)        \n",
        "     return x_re\n",
        "\n",
        "def train (device, vae, x):\n",
        "  optimizer = optim.Adam(vae.parameters(), lr=1e-3, weight_decay=1e-5)\n",
        "\n",
        "  losses = []\n",
        "  def computeLoss (x): \n",
        "    # TODO implement your custom loss \n",
        "    z, mu, sigma2 = vae.latent_code(x)\n",
        "    reconstructed_x = vae.recon_x(z)\n",
        "\n",
        "    # print(f'Shape of x and reconstructed x: {x.shape}, {reconstructed_x.shape}')\n",
        "    # BCE =  Func.binary_cross_entropy(reconstructed_x, x, reduction='sum') * (1/IMP_HYPERPARAM)\n",
        "    BCE =  Func.binary_cross_entropy(reconstructed_x, x, reduction='mean') \n",
        "    # KLD = -0.5 * torch.sum(1 + torch.log(sigma2) - mu.pow(2) - sigma2.pow(2))\n",
        "    KLD = 0\n",
        "\n",
        "    Total_loss = BCE + KLD\n",
        "    return Total_loss, z\n",
        "\n",
        "  for e in range(NUM_EPOCHS):\n",
        "    if e%2 == 0:\n",
        "      print(\"Epoch: {}\".format(e))\n",
        "    for i in range(NUM_BATCHES):\n",
        "      # Call computeLoss on each minibatch\n",
        "      # print(f'On Minibatch# : {i}')\n",
        "      miniBatch = X[i*BATCH_SIZE : (i+1)*BATCH_SIZE]\n",
        "      loss, z = computeLoss(miniBatch)         \n",
        "      loss.backward()            \n",
        "      optimizer.step()    "
      ],
      "execution_count": 90,
      "outputs": []
    },
    {
      "cell_type": "code",
      "metadata": {
        "id": "8O9YzSQbRHdb",
        "colab": {
          "base_uri": "https://localhost:8080/"
        },
        "outputId": "3b4418a2-eebb-4d50-947b-c250136b2a8c"
      },
      "source": [
        "device = torch.device(\"cuda\" if torch.cuda.is_available() else \"cpu\")    \n",
        "vae = VAE().to(device)    \n",
        "X = torch.from_numpy(np.load(\"/content/drive/MyDrive/Colab Notebooks/DL_Assignments/HW7/mnist_train_images.npy\")).float().to(device)   \n",
        "X = X[0:DATASET_SIZE]\n",
        "train(device, vae, X)"
      ],
      "execution_count": 91,
      "outputs": [
        {
          "output_type": "stream",
          "text": [
            "Epoch: 0\n",
            "Epoch: 2\n",
            "Epoch: 4\n",
            "Epoch: 6\n",
            "Epoch: 8\n"
          ],
          "name": "stdout"
        }
      ]
    },
    {
      "cell_type": "code",
      "metadata": {
        "id": "JEBiHyG4alyk",
        "colab": {
          "base_uri": "https://localhost:8080/"
        },
        "outputId": "5dc63e28-984e-4fa0-ebd1-5de6766b9f21"
      },
      "source": [
        "X_sample = X[0:16]\n",
        "with torch.no_grad():\n",
        "  z, m, s = vae.latent_code(X_sample)\n",
        "  X_sample_pred = vae.decoder(z)\n",
        "\n",
        "X_sample_show = (X_sample.reshape(X_sample.shape[0]*28, 28))\n",
        "X_sample_pred = X_sample_pred.reshape(X_sample.shape[0]*28, 28)\n",
        "\n",
        "X_comb = torch.hstack([X_sample_show, X_sample_pred])\n",
        "print(X_sample_pred.shape)"
      ],
      "execution_count": 92,
      "outputs": [
        {
          "output_type": "stream",
          "text": [
            "torch.Size([448, 28])\n"
          ],
          "name": "stdout"
        }
      ]
    },
    {
      "cell_type": "code",
      "metadata": {
        "colab": {
          "base_uri": "https://localhost:8080/",
          "height": 286
        },
        "id": "BeGvI4W0ajkK",
        "outputId": "31074f1e-8d83-4917-bedc-107d3a0532ba"
      },
      "source": [
        "plt.imshow(X_comb)"
      ],
      "execution_count": 93,
      "outputs": [
        {
          "output_type": "execute_result",
          "data": {
            "text/plain": [
              "<matplotlib.image.AxesImage at 0x7f42466cfdd0>"
            ]
          },
          "metadata": {
            "tags": []
          },
          "execution_count": 93
        },
        {
          "output_type": "display_data",
          "data": {
            "image/png": "[encoded data removed]",
            "text/plain": [
              "<Figure size 432x288 with 1 Axes>"
            ]
          },
          "metadata": {
            "tags": [],
            "needs_background": "light"
          }
        }
      ]
    },
    {
      "cell_type": "markdown",
      "metadata": {
        "id": "wWOFIdYYbYpb"
      },
      "source": [
        ""
      ]
    },
    {
      "cell_type": "code",
      "metadata": {
        "id": "9o0C9PHpM-OM"
      },
      "source": [
        "z = torch.randn(16, LATENT_CODE_SIZE)\n",
        "\n",
        "X_sample = X[0:16]\n",
        "with torch.no_grad():\n",
        "  X_sample_random = vae.decoder(z)\n",
        "\n",
        "X_sample_random = X_sample_pred.reshape(X_sample.shape[0]*28, 28)\n"
      ],
      "execution_count": 94,
      "outputs": []
    },
    {
      "cell_type": "code",
      "metadata": {
        "colab": {
          "base_uri": "https://localhost:8080/",
          "height": 286
        },
        "id": "uX4Ye-yDM-Xx",
        "outputId": "97405971-9ad7-4c01-8fb2-ac34681c5088"
      },
      "source": [
        "plt.imshow(X_sample_random)"
      ],
      "execution_count": 95,
      "outputs": [
        {
          "output_type": "execute_result",
          "data": {
            "text/plain": [
              "<matplotlib.image.AxesImage at 0x7f4245151e10>"
            ]
          },
          "metadata": {
            "tags": []
          },
          "execution_count": 95
        },
        {
          "output_type": "display_data",
          "data": {
            "image/png": "[encoded data removed]",
            "text/plain": [
              "<Figure size 432x288 with 1 Axes>"
            ]
          },
          "metadata": {
            "tags": [],
            "needs_background": "light"
          }
        }
      ]
    }
  ]
}