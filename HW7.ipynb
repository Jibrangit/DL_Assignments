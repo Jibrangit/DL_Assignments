{
  "nbformat": 4,
  "nbformat_minor": 0,
  "metadata": {
    "colab": {
      "name": "HW7.ipynb",
      "provenance": [],
      "mount_file_id": "1fva080bcA2VRwc3zp5ehph8t5Fj-1XIJ",
      "authorship_tag": "ABX9TyPcAo9Rqw2wni1ruBKtuwwr",
      "include_colab_link": true
    },
    "kernelspec": {
      "name": "python3",
      "display_name": "Python 3"
    },
    "language_info": {
      "name": "python"
    }
  },
  "cells": [
    {
      "cell_type": "markdown",
      "metadata": {
        "id": "view-in-github",
        "colab_type": "text"
      },
      "source": [
        "<a href=\"https://colab.research.google.com/github/Jibrangit/DL_Assignments/blob/Experiment/HW7.ipynb\" target=\"_parent\"><img src=\"https://colab.research.google.com/assets/colab-badge.svg\" alt=\"Open In Colab\"/></a>"
      ]
    },
    {
      "cell_type": "code",
      "metadata": {
        "id": "3bRgUGohNTiT"
      },
      "source": [
        "import numpy as np\n",
        "import torch\n",
        "import torch.nn as nn\n",
        "from torch import optim\n",
        "import torch.nn.functional as Func\n",
        "import scipy\n",
        "import matplotlib.pyplot as plt\n",
        "%matplotlib inline "
      ],
      "execution_count": 70,
      "outputs": []
    },
    {
      "cell_type": "code",
      "metadata": {
        "id": "kNnRDtNHP6ql"
      },
      "source": [
        "INPUT = 784\n",
        "HIDDEN = 200\n",
        "BATCH_SIZE = 100\n",
        "NUM_EPOCHS = 5"
      ],
      "execution_count": 71,
      "outputs": []
    },
    {
      "cell_type": "code",
      "metadata": {
        "id": "U7gzNhlJQDO7"
      },
      "source": [
        "class Encoder (nn.Module):    \n",
        "  def __init__ (self):        \n",
        "    super(Encoder, self).__init__()        # TODO initialize layers \n",
        "    self.hidden = nn.Linear(784, HIDDEN) \n",
        "    self.output = nn.Linear(HIDDEN, 32)   \n",
        "    self.dropout = nn.Dropout()\n",
        "    self.activation = nn.Tanh() \n",
        "    # self.positive = nn.Sigmoid()  \n",
        "    self.flatten = nn.Flatten()\n",
        "    \n",
        "  def forward (self, X):        \n",
        "      # TODO execute layers and return result \n",
        "      X = self.flatten(X)\n",
        "      X = self.activation(X)\n",
        "      X = self.dropout(X)\n",
        "      X = self.hidden(X)\n",
        "      X = self.activation(X)\n",
        "      X = self.dropout(X)\n",
        "      MU = self.output(X)   \n",
        "      SIGMA2 = self.output(X)   \n",
        "      SIGMA2 = torch.square(SIGMA2)\n",
        "      \n",
        "      return MU, SIGMA2\n",
        "\n",
        "class Decoder (nn.Module):    \n",
        "  def __init__ (self):        \n",
        "    super(Decoder, self).__init__()        \n",
        "    # TODO initialize layers\n",
        "    self.hidden = nn.Linear(32, HIDDEN) \n",
        "    self.output = nn.Linear(HIDDEN, 784)   \n",
        "    self.dropout = nn.Dropout()\n",
        "    self.activation = nn.Tanh()   \n",
        "    self.sigmoid_output = nn.Sigmoid()    \n",
        "  \n",
        "  def forward (self, Z):        \n",
        "    # TODO execute layers and return result \n",
        "    Z = self.hidden(Z)\n",
        "    Z = self.activation(Z)\n",
        "    Z = self.dropout(Z)\n",
        "    Z = self.output(Z)   \n",
        "    Z = self.sigmoid_output(Z)    \n",
        "    \n",
        "    \n",
        "    return Z\n",
        "\n",
        "class VAE (nn.Module):    \n",
        "  def __init__ (self):        \n",
        "    super(VAE, self).__init__()        \n",
        "    self.decoder = Decoder()        \n",
        "    self.encoder = Encoder()\n",
        "\n",
        "# Computes the hidden representation given the pre-sampled values eps    \n",
        "  def latent_code (self, x):        \n",
        "    mu, sigma2 = self.encoder(x)    \n",
        "    # TODO extract mu and sigma2 from the code, and then use them and eps        \n",
        "    # to compute z.\n",
        "    sigma = torch.sqrt(sigma2) \n",
        "    epsilon = torch.LongTensor(scipy.random.normal(0, 1, sigma.shape[1]))\n",
        "    # print(sigma.shape)\n",
        "    z =  mu.mul(epsilon) + sigma\n",
        "\n",
        "\n",
        "    return z, mu, sigma2\n",
        "\n",
        "\n",
        "  def recon_x (self, z):        \n",
        "     x = self.decoder(z)        \n",
        "     return x\n",
        "\n",
        "def train (device, vae, x):\n",
        "  optimizer = optim.Adam(vae.parameters(), lr=1e-3, weight_decay=1e-5)\n",
        "\n",
        "  losses = []\n",
        "  def computeLoss (x): \n",
        "    # TODO implement your custom loss \n",
        "    z, mu, sigma2 = vae.latent_code(x)\n",
        "    reconstructed_x = vae.recon_x(z)\n",
        "\n",
        "    print(f'Shape of x and reconstructed x: {x.shape}, {reconstructed_x.shape}')\n",
        "    BCE =  Func.binary_cross_entropy(reconstructed_x, x, reduction='sum')\n",
        "    # KLD = -0.5 * torch.sum(1 + torch.log(sigma2) - mu.pow(2) - sigma2.pow(2))\n",
        "    KLD = 0\n",
        " \n",
        "\n",
        "    Total_loss = BCE + KLD\n",
        "    return Total_loss, z\n",
        "\n",
        "  for e in range(NUM_EPOCHS):\n",
        "    if e%2 == 0:\n",
        "      print(\"Epoch: {}\".format(e))\n",
        "    for i in np.arange(0, len(X), BATCH_SIZE):\n",
        "      # Call computeLoss on each minibatch\n",
        "      miniBatch = X[i*BATCH_SIZE : (i+1)*BATCH_SIZE]\n",
        "      loss, z = computeLoss(miniBatch)         \n",
        "      loss.backward()            \n",
        "      optimizer.step()    "
      ],
      "execution_count": 86,
      "outputs": []
    },
    {
      "cell_type": "code",
      "metadata": {
        "id": "8O9YzSQbRHdb",
        "colab": {
          "base_uri": "https://localhost:8080/"
        },
        "outputId": "c8622aaf-314b-49de-9b5e-9cc1d276cd67"
      },
      "source": [
        "device = torch.device(\"cuda\" if torch.cuda.is_available() else \"cpu\")    \n",
        "vae = VAE().to(device)    \n",
        "X = torch.from_numpy(np.load(\"/content/drive/MyDrive/Colab Notebooks/DL_Assignments/HW7/mnist_train_images.npy\")).float().to(device)   \n",
        "X = X[0:784]\n",
        "train(device, vae, X)"
      ],
      "execution_count": 87,
      "outputs": [
        {
          "output_type": "stream",
          "text": [
            "Epoch: 0\n",
            "Shape of x and reconstructed x: torch.Size([100, 784]), torch.Size([100, 784])\n",
            "Shape of x and reconstructed x: torch.Size([0, 784]), torch.Size([0, 784])\n",
            "Shape of x and reconstructed x: torch.Size([0, 784]), torch.Size([0, 784])\n",
            "Shape of x and reconstructed x: torch.Size([0, 784]), torch.Size([0, 784])\n",
            "Shape of x and reconstructed x: torch.Size([0, 784]), torch.Size([0, 784])\n",
            "Shape of x and reconstructed x: torch.Size([0, 784]), torch.Size([0, 784])\n",
            "Shape of x and reconstructed x: torch.Size([0, 784]), torch.Size([0, 784])\n",
            "Shape of x and reconstructed x: torch.Size([0, 784]), torch.Size([0, 784])\n",
            "Shape of x and reconstructed x: torch.Size([100, 784]), torch.Size([100, 784])\n",
            "Shape of x and reconstructed x: torch.Size([0, 784]), torch.Size([0, 784])\n",
            "Shape of x and reconstructed x: torch.Size([0, 784]), torch.Size([0, 784])\n",
            "Shape of x and reconstructed x: torch.Size([0, 784]), torch.Size([0, 784])\n",
            "Shape of x and reconstructed x: torch.Size([0, 784]), torch.Size([0, 784])\n",
            "Shape of x and reconstructed x: torch.Size([0, 784]), torch.Size([0, 784])\n",
            "Shape of x and reconstructed x: torch.Size([0, 784]), torch.Size([0, 784])\n",
            "Shape of x and reconstructed x: torch.Size([0, 784]), torch.Size([0, 784])\n",
            "Epoch: 2\n",
            "Shape of x and reconstructed x: torch.Size([100, 784]), torch.Size([100, 784])\n",
            "Shape of x and reconstructed x: torch.Size([0, 784]), torch.Size([0, 784])\n",
            "Shape of x and reconstructed x: torch.Size([0, 784]), torch.Size([0, 784])\n",
            "Shape of x and reconstructed x: torch.Size([0, 784]), torch.Size([0, 784])\n",
            "Shape of x and reconstructed x: torch.Size([0, 784]), torch.Size([0, 784])\n",
            "Shape of x and reconstructed x: torch.Size([0, 784]), torch.Size([0, 784])\n",
            "Shape of x and reconstructed x: torch.Size([0, 784]), torch.Size([0, 784])\n",
            "Shape of x and reconstructed x: torch.Size([0, 784]), torch.Size([0, 784])\n",
            "Shape of x and reconstructed x: torch.Size([100, 784]), torch.Size([100, 784])\n",
            "Shape of x and reconstructed x: torch.Size([0, 784]), torch.Size([0, 784])\n",
            "Shape of x and reconstructed x: torch.Size([0, 784]), torch.Size([0, 784])\n",
            "Shape of x and reconstructed x: torch.Size([0, 784]), torch.Size([0, 784])\n",
            "Shape of x and reconstructed x: torch.Size([0, 784]), torch.Size([0, 784])\n",
            "Shape of x and reconstructed x: torch.Size([0, 784]), torch.Size([0, 784])\n",
            "Shape of x and reconstructed x: torch.Size([0, 784]), torch.Size([0, 784])\n",
            "Shape of x and reconstructed x: torch.Size([0, 784]), torch.Size([0, 784])\n",
            "Epoch: 4\n",
            "Shape of x and reconstructed x: torch.Size([100, 784]), torch.Size([100, 784])\n",
            "Shape of x and reconstructed x: torch.Size([0, 784]), torch.Size([0, 784])\n",
            "Shape of x and reconstructed x: torch.Size([0, 784]), torch.Size([0, 784])\n",
            "Shape of x and reconstructed x: torch.Size([0, 784]), torch.Size([0, 784])\n",
            "Shape of x and reconstructed x: torch.Size([0, 784]), torch.Size([0, 784])\n",
            "Shape of x and reconstructed x: torch.Size([0, 784]), torch.Size([0, 784])\n",
            "Shape of x and reconstructed x: torch.Size([0, 784]), torch.Size([0, 784])\n",
            "Shape of x and reconstructed x: torch.Size([0, 784]), torch.Size([0, 784])\n"
          ],
          "name": "stdout"
        }
      ]
    },
    {
      "cell_type": "code",
      "metadata": {
        "id": "JEBiHyG4alyk",
        "colab": {
          "base_uri": "https://localhost:8080/"
        },
        "outputId": "f9c0c950-029e-42c3-bbb7-76e36abd9f0b"
      },
      "source": [
        "X_sample = X[650:666]\n",
        "with torch.no_grad():\n",
        "  z, m, s = vae.latent_code(X_sample)\n",
        "  X_sample_pred = vae.decoder(z)\n",
        "\n",
        "X_sample_show = (X_sample.reshape(X_sample.shape[0]*28, 28))\n",
        "X_sample_pred = X_sample_pred.reshape(X_sample.shape[0]*28, 28)\n",
        "\n",
        "X_comb = torch.hstack([X_sample_show, X_sample_pred])\n",
        "print(X_comb.shape)"
      ],
      "execution_count": 78,
      "outputs": [
        {
          "output_type": "stream",
          "text": [
            "torch.Size([448, 56])\n"
          ],
          "name": "stdout"
        }
      ]
    },
    {
      "cell_type": "code",
      "metadata": {
        "colab": {
          "base_uri": "https://localhost:8080/",
          "height": 286
        },
        "id": "BeGvI4W0ajkK",
        "outputId": "4808c10d-0eff-4c2d-9b35-240196cc76ec"
      },
      "source": [
        "plt.imshow(X_comb)"
      ],
      "execution_count": 79,
      "outputs": [
        {
          "output_type": "execute_result",
          "data": {
            "text/plain": [
              "<matplotlib.image.AxesImage at 0x7f876bda4e10>"
            ]
          },
          "metadata": {
            "tags": []
          },
          "execution_count": 79
        },
        {
          "output_type": "display_data",
          "data": {
            "image/png": "[encoded data removed]",
            "text/plain": [
              "<Figure size 432x288 with 1 Axes>"
            ]
          },
          "metadata": {
            "tags": [],
            "needs_background": "light"
          }
        }
      ]
    },
    {
      "cell_type": "markdown",
      "metadata": {
        "id": "wWOFIdYYbYpb"
      },
      "source": [
        ""
      ]
    }
  ]
}